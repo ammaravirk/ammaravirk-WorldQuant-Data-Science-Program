{
 "cells": [
  {
   "cell_type": "markdown",
   "id": "837dc6c8",
   "metadata": {
    "papermill": {
     "duration": 0.009919,
     "end_time": "2022-08-22T06:15:54.617606",
     "exception": false,
     "start_time": "2022-08-22T06:15:54.607687",
     "status": "completed"
    },
    "tags": []
   },
   "source": [
    "# Housing in Buenos Aires\n"
   ]
  },
  {
   "cell_type": "markdown",
   "id": "3c0068e7",
   "metadata": {
    "papermill": {
     "duration": 0.00827,
     "end_time": "2022-08-22T06:15:54.634763",
     "exception": false,
     "start_time": "2022-08-22T06:15:54.626493",
     "status": "completed"
    },
    "tags": []
   },
   "source": [
    "In this project, we are working for a client who wants to create a model that can predict the price of apartments in the city of Buenos Aires — with a focus on apartments that cost less than $400,000 USD. We have a collection of dataset contains the real estate data of **Buenos Aires**"
   ]
  },
  {
   "cell_type": "markdown",
   "id": "c9cf2780",
   "metadata": {
    "papermill": {
     "duration": 0.008195,
     "end_time": "2022-08-22T06:15:54.651833",
     "exception": false,
     "start_time": "2022-08-22T06:15:54.643638",
     "status": "completed"
    },
    "tags": []
   },
   "source": [
    "## Importing modules"
   ]
  },
  {
   "cell_type": "code",
   "execution_count": 1,
   "id": "82d88727",
   "metadata": {
    "execution": {
     "iopub.execute_input": "2022-08-22T06:15:54.672635Z",
     "iopub.status.busy": "2022-08-22T06:15:54.671416Z",
     "iopub.status.idle": "2022-08-22T06:15:55.807859Z",
     "shell.execute_reply": "2022-08-22T06:15:55.806650Z"
    },
    "papermill": {
     "duration": 1.150741,
     "end_time": "2022-08-22T06:15:55.811141",
     "exception": false,
     "start_time": "2022-08-22T06:15:54.660400",
     "status": "completed"
    },
    "tags": []
   },
   "outputs": [],
   "source": [
    "import matplotlib.pyplot as plt\n",
    "import pandas as pd\n",
    "from glob import glob\n",
    "from sklearn.linear_model import LinearRegression\n",
    "from sklearn.model_selection import train_test_split\n",
    "from sklearn.metrics import mean_absolute_error"
   ]
  },
  {
   "cell_type": "markdown",
   "id": "8f9e098e",
   "metadata": {
    "papermill": {
     "duration": 0.007792,
     "end_time": "2022-08-22T06:15:55.827434",
     "exception": false,
     "start_time": "2022-08-22T06:15:55.819642",
     "status": "completed"
    },
    "tags": []
   },
   "source": [
    "## Creating a wrangle function to read the all datasets and clean it"
   ]
  },
  {
   "cell_type": "code",
   "execution_count": 2,
   "id": "d48090ed",
   "metadata": {
    "execution": {
     "iopub.execute_input": "2022-08-22T06:15:55.845746Z",
     "iopub.status.busy": "2022-08-22T06:15:55.845313Z",
     "iopub.status.idle": "2022-08-22T06:15:55.850893Z",
     "shell.execute_reply": "2022-08-22T06:15:55.849824Z"
    },
    "papermill": {
     "duration": 0.017603,
     "end_time": "2022-08-22T06:15:55.853082",
     "exception": false,
     "start_time": "2022-08-22T06:15:55.835479",
     "status": "completed"
    },
    "tags": []
   },
   "outputs": [],
   "source": [
    "def wrangle(filepath):\n",
    "    # Read csv file to df\n",
    "    df = pd.read_csv(filepath)\n",
    "    \n",
    "    return df"
   ]
  },
  {
   "cell_type": "code",
   "execution_count": 3,
   "id": "02a164d8",
   "metadata": {
    "execution": {
     "iopub.execute_input": "2022-08-22T06:15:55.871996Z",
     "iopub.status.busy": "2022-08-22T06:15:55.871351Z",
     "iopub.status.idle": "2022-08-22T06:15:55.987882Z",
     "shell.execute_reply": "2022-08-22T06:15:55.985989Z"
    },
    "papermill": {
     "duration": 0.13097,
     "end_time": "2022-08-22T06:15:55.992590",
     "exception": false,
     "start_time": "2022-08-22T06:15:55.861620",
     "status": "completed"
    },
    "tags": []
   },
   "outputs": [
    {
     "name": "stdout",
     "output_type": "stream",
     "text": [
      "df shape: (8606, 17)\n"
     ]
    },
    {
     "data": {
      "text/html": [
       "<div>\n",
       "<style scoped>\n",
       "    .dataframe tbody tr th:only-of-type {\n",
       "        vertical-align: middle;\n",
       "    }\n",
       "\n",
       "    .dataframe tbody tr th {\n",
       "        vertical-align: top;\n",
       "    }\n",
       "\n",
       "    .dataframe thead th {\n",
       "        text-align: right;\n",
       "    }\n",
       "</style>\n",
       "<table border=\"1\" class=\"dataframe\">\n",
       "  <thead>\n",
       "    <tr style=\"text-align: right;\">\n",
       "      <th></th>\n",
       "      <th>Unnamed: 0</th>\n",
       "      <th>operation</th>\n",
       "      <th>property_type</th>\n",
       "      <th>place_with_parent_names</th>\n",
       "      <th>lat-lon</th>\n",
       "      <th>price</th>\n",
       "      <th>currency</th>\n",
       "      <th>price_aprox_local_currency</th>\n",
       "      <th>price_aprox_usd</th>\n",
       "      <th>surface_total_in_m2</th>\n",
       "      <th>surface_covered_in_m2</th>\n",
       "      <th>price_usd_per_m2</th>\n",
       "      <th>price_per_m2</th>\n",
       "      <th>floor</th>\n",
       "      <th>rooms</th>\n",
       "      <th>expenses</th>\n",
       "      <th>properati_url</th>\n",
       "    </tr>\n",
       "  </thead>\n",
       "  <tbody>\n",
       "    <tr>\n",
       "      <th>0</th>\n",
       "      <td>0</td>\n",
       "      <td>sell</td>\n",
       "      <td>apartment</td>\n",
       "      <td>|Argentina|Capital Federal|Villa Crespo|</td>\n",
       "      <td>-34.6047834183,-58.4586812499</td>\n",
       "      <td>180000.0</td>\n",
       "      <td>USD</td>\n",
       "      <td>2729232.0</td>\n",
       "      <td>180000.0</td>\n",
       "      <td>120.0</td>\n",
       "      <td>110.0</td>\n",
       "      <td>1500.000000</td>\n",
       "      <td>1636.363636</td>\n",
       "      <td>NaN</td>\n",
       "      <td>4.0</td>\n",
       "      <td>NaN</td>\n",
       "      <td>http://villa-crespo.properati.com.ar/12egq_ven...</td>\n",
       "    </tr>\n",
       "    <tr>\n",
       "      <th>1</th>\n",
       "      <td>1</td>\n",
       "      <td>sell</td>\n",
       "      <td>house</td>\n",
       "      <td>|Argentina|Bs.As. G.B.A. Zona Oeste|La Matanza...</td>\n",
       "      <td>NaN</td>\n",
       "      <td>250000.0</td>\n",
       "      <td>USD</td>\n",
       "      <td>3790600.0</td>\n",
       "      <td>250000.0</td>\n",
       "      <td>117.0</td>\n",
       "      <td>120.0</td>\n",
       "      <td>2136.752137</td>\n",
       "      <td>2083.333333</td>\n",
       "      <td>NaN</td>\n",
       "      <td>4.0</td>\n",
       "      <td>NaN</td>\n",
       "      <td>http://ramos-mejia.properati.com.ar/s7pd_venta...</td>\n",
       "    </tr>\n",
       "    <tr>\n",
       "      <th>2</th>\n",
       "      <td>2</td>\n",
       "      <td>sell</td>\n",
       "      <td>house</td>\n",
       "      <td>|Argentina|Bs.As. G.B.A. Zona Oeste|Morón|Cast...</td>\n",
       "      <td>-34.6497002,-58.658073</td>\n",
       "      <td>410000.0</td>\n",
       "      <td>USD</td>\n",
       "      <td>6216584.0</td>\n",
       "      <td>410000.0</td>\n",
       "      <td>410.0</td>\n",
       "      <td>220.0</td>\n",
       "      <td>1000.000000</td>\n",
       "      <td>1863.636364</td>\n",
       "      <td>NaN</td>\n",
       "      <td>NaN</td>\n",
       "      <td>NaN</td>\n",
       "      <td>http://castelar-moron.properati.com.ar/11vgn_v...</td>\n",
       "    </tr>\n",
       "    <tr>\n",
       "      <th>3</th>\n",
       "      <td>3</td>\n",
       "      <td>sell</td>\n",
       "      <td>house</td>\n",
       "      <td>|Argentina|Bs.As. G.B.A. Zona Oeste|Tres de Fe...</td>\n",
       "      <td>-34.5957086,-58.5669503</td>\n",
       "      <td>180000.0</td>\n",
       "      <td>USD</td>\n",
       "      <td>2729232.0</td>\n",
       "      <td>180000.0</td>\n",
       "      <td>200.0</td>\n",
       "      <td>135.0</td>\n",
       "      <td>900.000000</td>\n",
       "      <td>1333.333333</td>\n",
       "      <td>NaN</td>\n",
       "      <td>5.0</td>\n",
       "      <td>NaN</td>\n",
       "      <td>http://tres-de-febrero.properati.com.ar/7f7u_v...</td>\n",
       "    </tr>\n",
       "    <tr>\n",
       "      <th>4</th>\n",
       "      <td>4</td>\n",
       "      <td>sell</td>\n",
       "      <td>apartment</td>\n",
       "      <td>|Argentina|Capital Federal|Chacarita|</td>\n",
       "      <td>-34.5846508988,-58.4546932614</td>\n",
       "      <td>129000.0</td>\n",
       "      <td>USD</td>\n",
       "      <td>1955949.6</td>\n",
       "      <td>129000.0</td>\n",
       "      <td>76.0</td>\n",
       "      <td>70.0</td>\n",
       "      <td>1697.368421</td>\n",
       "      <td>1842.857143</td>\n",
       "      <td>NaN</td>\n",
       "      <td>NaN</td>\n",
       "      <td>NaN</td>\n",
       "      <td>http://chacarita.properati.com.ar/10qlv_venta_...</td>\n",
       "    </tr>\n",
       "  </tbody>\n",
       "</table>\n",
       "</div>"
      ],
      "text/plain": [
       "   Unnamed: 0 operation property_type  \\\n",
       "0           0      sell     apartment   \n",
       "1           1      sell         house   \n",
       "2           2      sell         house   \n",
       "3           3      sell         house   \n",
       "4           4      sell     apartment   \n",
       "\n",
       "                             place_with_parent_names  \\\n",
       "0           |Argentina|Capital Federal|Villa Crespo|   \n",
       "1  |Argentina|Bs.As. G.B.A. Zona Oeste|La Matanza...   \n",
       "2  |Argentina|Bs.As. G.B.A. Zona Oeste|Morón|Cast...   \n",
       "3  |Argentina|Bs.As. G.B.A. Zona Oeste|Tres de Fe...   \n",
       "4              |Argentina|Capital Federal|Chacarita|   \n",
       "\n",
       "                         lat-lon     price currency  \\\n",
       "0  -34.6047834183,-58.4586812499  180000.0      USD   \n",
       "1                            NaN  250000.0      USD   \n",
       "2         -34.6497002,-58.658073  410000.0      USD   \n",
       "3        -34.5957086,-58.5669503  180000.0      USD   \n",
       "4  -34.5846508988,-58.4546932614  129000.0      USD   \n",
       "\n",
       "   price_aprox_local_currency  price_aprox_usd  surface_total_in_m2  \\\n",
       "0                   2729232.0         180000.0                120.0   \n",
       "1                   3790600.0         250000.0                117.0   \n",
       "2                   6216584.0         410000.0                410.0   \n",
       "3                   2729232.0         180000.0                200.0   \n",
       "4                   1955949.6         129000.0                 76.0   \n",
       "\n",
       "   surface_covered_in_m2  price_usd_per_m2  price_per_m2  floor  rooms  \\\n",
       "0                  110.0       1500.000000   1636.363636    NaN    4.0   \n",
       "1                  120.0       2136.752137   2083.333333    NaN    4.0   \n",
       "2                  220.0       1000.000000   1863.636364    NaN    NaN   \n",
       "3                  135.0        900.000000   1333.333333    NaN    5.0   \n",
       "4                   70.0       1697.368421   1842.857143    NaN    NaN   \n",
       "\n",
       "  expenses                                      properati_url  \n",
       "0      NaN  http://villa-crespo.properati.com.ar/12egq_ven...  \n",
       "1      NaN  http://ramos-mejia.properati.com.ar/s7pd_venta...  \n",
       "2      NaN  http://castelar-moron.properati.com.ar/11vgn_v...  \n",
       "3      NaN  http://tres-de-febrero.properati.com.ar/7f7u_v...  \n",
       "4      NaN  http://chacarita.properati.com.ar/10qlv_venta_...  "
      ]
     },
     "execution_count": 3,
     "metadata": {},
     "output_type": "execute_result"
    }
   ],
   "source": [
    "df = wrangle(\"../input/buenos-aires-realestate-dataset/data1.csv\")\n",
    "print(\"df shape:\", df.shape)\n",
    "df.head()"
   ]
  },
  {
   "cell_type": "markdown",
   "id": "e8528281",
   "metadata": {
    "papermill": {
     "duration": 0.00996,
     "end_time": "2022-08-22T06:15:56.014007",
     "exception": false,
     "start_time": "2022-08-22T06:15:56.004047",
     "status": "completed"
    },
    "tags": []
   },
   "source": [
    "For this project, we want to build a model for apartments in Buenos Aires proper (\"Capital Federal\") that cost less than $400,000. Looking at the first five rows of our DataFrame, we can already see that there properties that fall outside those parameters. So our first cleaning task is to remove those observations from our dataset. Since we're using a function to import and clean our data, we'll need to make changes there."
   ]
  },
  {
   "cell_type": "code",
   "execution_count": 4,
   "id": "ad590071",
   "metadata": {
    "execution": {
     "iopub.execute_input": "2022-08-22T06:15:56.034435Z",
     "iopub.status.busy": "2022-08-22T06:15:56.033336Z",
     "iopub.status.idle": "2022-08-22T06:15:56.040781Z",
     "shell.execute_reply": "2022-08-22T06:15:56.039473Z"
    },
    "papermill": {
     "duration": 0.020292,
     "end_time": "2022-08-22T06:15:56.043062",
     "exception": false,
     "start_time": "2022-08-22T06:15:56.022770",
     "status": "completed"
    },
    "tags": []
   },
   "outputs": [],
   "source": [
    "def wrangle(filepath):\n",
    "    # Read csv file to df\n",
    "    df = pd.read_csv(filepath)\n",
    "    \n",
    "    # subset to properties in \"Capital Federal\"\n",
    "    mask_ba = df[\"place_with_parent_names\"].str.contains(\"Capital Federal\")\n",
    "    # subset to \"appartments\"\n",
    "    mask_apt = df[\"property_type\"] == \"apartment\"\n",
    "    # subset to price < 400,000 USD\n",
    "    mask_price = df[\"price_aprox_usd\"]<400_000\n",
    "    # subset\n",
    "    df = df[mask_ba & mask_apt & mask_price]\n",
    "    \n",
    "    return df"
   ]
  },
  {
   "cell_type": "code",
   "execution_count": 5,
   "id": "ff64b4f9",
   "metadata": {
    "execution": {
     "iopub.execute_input": "2022-08-22T06:15:56.062007Z",
     "iopub.status.busy": "2022-08-22T06:15:56.061547Z",
     "iopub.status.idle": "2022-08-22T06:15:56.149820Z",
     "shell.execute_reply": "2022-08-22T06:15:56.148000Z"
    },
    "papermill": {
     "duration": 0.102153,
     "end_time": "2022-08-22T06:15:56.153717",
     "exception": false,
     "start_time": "2022-08-22T06:15:56.051564",
     "status": "completed"
    },
    "tags": []
   },
   "outputs": [
    {
     "name": "stdout",
     "output_type": "stream",
     "text": [
      "df shape: (1781, 17)\n"
     ]
    },
    {
     "data": {
      "text/html": [
       "<div>\n",
       "<style scoped>\n",
       "    .dataframe tbody tr th:only-of-type {\n",
       "        vertical-align: middle;\n",
       "    }\n",
       "\n",
       "    .dataframe tbody tr th {\n",
       "        vertical-align: top;\n",
       "    }\n",
       "\n",
       "    .dataframe thead th {\n",
       "        text-align: right;\n",
       "    }\n",
       "</style>\n",
       "<table border=\"1\" class=\"dataframe\">\n",
       "  <thead>\n",
       "    <tr style=\"text-align: right;\">\n",
       "      <th></th>\n",
       "      <th>Unnamed: 0</th>\n",
       "      <th>operation</th>\n",
       "      <th>property_type</th>\n",
       "      <th>place_with_parent_names</th>\n",
       "      <th>lat-lon</th>\n",
       "      <th>price</th>\n",
       "      <th>currency</th>\n",
       "      <th>price_aprox_local_currency</th>\n",
       "      <th>price_aprox_usd</th>\n",
       "      <th>surface_total_in_m2</th>\n",
       "      <th>surface_covered_in_m2</th>\n",
       "      <th>price_usd_per_m2</th>\n",
       "      <th>price_per_m2</th>\n",
       "      <th>floor</th>\n",
       "      <th>rooms</th>\n",
       "      <th>expenses</th>\n",
       "      <th>properati_url</th>\n",
       "    </tr>\n",
       "  </thead>\n",
       "  <tbody>\n",
       "    <tr>\n",
       "      <th>0</th>\n",
       "      <td>0</td>\n",
       "      <td>sell</td>\n",
       "      <td>apartment</td>\n",
       "      <td>|Argentina|Capital Federal|Villa Crespo|</td>\n",
       "      <td>-34.6047834183,-58.4586812499</td>\n",
       "      <td>180000.0</td>\n",
       "      <td>USD</td>\n",
       "      <td>2729232.0</td>\n",
       "      <td>180000.0</td>\n",
       "      <td>120.0</td>\n",
       "      <td>110.0</td>\n",
       "      <td>1500.000000</td>\n",
       "      <td>1636.363636</td>\n",
       "      <td>NaN</td>\n",
       "      <td>4.0</td>\n",
       "      <td>NaN</td>\n",
       "      <td>http://villa-crespo.properati.com.ar/12egq_ven...</td>\n",
       "    </tr>\n",
       "    <tr>\n",
       "      <th>4</th>\n",
       "      <td>4</td>\n",
       "      <td>sell</td>\n",
       "      <td>apartment</td>\n",
       "      <td>|Argentina|Capital Federal|Chacarita|</td>\n",
       "      <td>-34.5846508988,-58.4546932614</td>\n",
       "      <td>129000.0</td>\n",
       "      <td>USD</td>\n",
       "      <td>1955949.6</td>\n",
       "      <td>129000.0</td>\n",
       "      <td>76.0</td>\n",
       "      <td>70.0</td>\n",
       "      <td>1697.368421</td>\n",
       "      <td>1842.857143</td>\n",
       "      <td>NaN</td>\n",
       "      <td>NaN</td>\n",
       "      <td>NaN</td>\n",
       "      <td>http://chacarita.properati.com.ar/10qlv_venta_...</td>\n",
       "    </tr>\n",
       "    <tr>\n",
       "      <th>9</th>\n",
       "      <td>9</td>\n",
       "      <td>sell</td>\n",
       "      <td>apartment</td>\n",
       "      <td>|Argentina|Capital Federal|Villa Luro|</td>\n",
       "      <td>-34.6389789,-58.500115</td>\n",
       "      <td>87000.0</td>\n",
       "      <td>USD</td>\n",
       "      <td>1319128.8</td>\n",
       "      <td>87000.0</td>\n",
       "      <td>48.0</td>\n",
       "      <td>42.0</td>\n",
       "      <td>1812.500000</td>\n",
       "      <td>2071.428571</td>\n",
       "      <td>NaN</td>\n",
       "      <td>NaN</td>\n",
       "      <td>NaN</td>\n",
       "      <td>http://villa-luro.properati.com.ar/12m82_venta...</td>\n",
       "    </tr>\n",
       "    <tr>\n",
       "      <th>11</th>\n",
       "      <td>11</td>\n",
       "      <td>sell</td>\n",
       "      <td>apartment</td>\n",
       "      <td>|Argentina|Capital Federal|Once|</td>\n",
       "      <td>-34.6050060697,-58.4001162302</td>\n",
       "      <td>60000.0</td>\n",
       "      <td>USD</td>\n",
       "      <td>909744.0</td>\n",
       "      <td>60000.0</td>\n",
       "      <td>28.0</td>\n",
       "      <td>28.0</td>\n",
       "      <td>2142.857143</td>\n",
       "      <td>2142.857143</td>\n",
       "      <td>NaN</td>\n",
       "      <td>1.0</td>\n",
       "      <td>NaN</td>\n",
       "      <td>http://once.properati.com.ar/zz0q_venta_depart...</td>\n",
       "    </tr>\n",
       "    <tr>\n",
       "      <th>20</th>\n",
       "      <td>20</td>\n",
       "      <td>sell</td>\n",
       "      <td>apartment</td>\n",
       "      <td>|Argentina|Capital Federal|San Nicolás|</td>\n",
       "      <td>-34.603898,-58.378617</td>\n",
       "      <td>69000.0</td>\n",
       "      <td>USD</td>\n",
       "      <td>1046205.6</td>\n",
       "      <td>69000.0</td>\n",
       "      <td>NaN</td>\n",
       "      <td>22.0</td>\n",
       "      <td>NaN</td>\n",
       "      <td>3136.363636</td>\n",
       "      <td>23.0</td>\n",
       "      <td>2.0</td>\n",
       "      <td>NaN</td>\n",
       "      <td>http://san-nicolas.properati.com.ar/rnju_venta...</td>\n",
       "    </tr>\n",
       "  </tbody>\n",
       "</table>\n",
       "</div>"
      ],
      "text/plain": [
       "    Unnamed: 0 operation property_type  \\\n",
       "0            0      sell     apartment   \n",
       "4            4      sell     apartment   \n",
       "9            9      sell     apartment   \n",
       "11          11      sell     apartment   \n",
       "20          20      sell     apartment   \n",
       "\n",
       "                     place_with_parent_names                        lat-lon  \\\n",
       "0   |Argentina|Capital Federal|Villa Crespo|  -34.6047834183,-58.4586812499   \n",
       "4      |Argentina|Capital Federal|Chacarita|  -34.5846508988,-58.4546932614   \n",
       "9     |Argentina|Capital Federal|Villa Luro|         -34.6389789,-58.500115   \n",
       "11          |Argentina|Capital Federal|Once|  -34.6050060697,-58.4001162302   \n",
       "20   |Argentina|Capital Federal|San Nicolás|          -34.603898,-58.378617   \n",
       "\n",
       "       price currency  price_aprox_local_currency  price_aprox_usd  \\\n",
       "0   180000.0      USD                   2729232.0         180000.0   \n",
       "4   129000.0      USD                   1955949.6         129000.0   \n",
       "9    87000.0      USD                   1319128.8          87000.0   \n",
       "11   60000.0      USD                    909744.0          60000.0   \n",
       "20   69000.0      USD                   1046205.6          69000.0   \n",
       "\n",
       "    surface_total_in_m2  surface_covered_in_m2  price_usd_per_m2  \\\n",
       "0                 120.0                  110.0       1500.000000   \n",
       "4                  76.0                   70.0       1697.368421   \n",
       "9                  48.0                   42.0       1812.500000   \n",
       "11                 28.0                   28.0       2142.857143   \n",
       "20                  NaN                   22.0               NaN   \n",
       "\n",
       "    price_per_m2  floor  rooms expenses  \\\n",
       "0    1636.363636    NaN    4.0      NaN   \n",
       "4    1842.857143    NaN    NaN      NaN   \n",
       "9    2071.428571    NaN    NaN      NaN   \n",
       "11   2142.857143    NaN    1.0      NaN   \n",
       "20   3136.363636   23.0    2.0      NaN   \n",
       "\n",
       "                                        properati_url  \n",
       "0   http://villa-crespo.properati.com.ar/12egq_ven...  \n",
       "4   http://chacarita.properati.com.ar/10qlv_venta_...  \n",
       "9   http://villa-luro.properati.com.ar/12m82_venta...  \n",
       "11  http://once.properati.com.ar/zz0q_venta_depart...  \n",
       "20  http://san-nicolas.properati.com.ar/rnju_venta...  "
      ]
     },
     "execution_count": 5,
     "metadata": {},
     "output_type": "execute_result"
    }
   ],
   "source": [
    "df = wrangle(\"../input/buenos-aires-realestate-dataset/data1.csv\")\n",
    "print(\"df shape:\", df.shape)\n",
    "df.head()"
   ]
  },
  {
   "cell_type": "markdown",
   "id": "d70e39d0",
   "metadata": {
    "papermill": {
     "duration": 0.00918,
     "end_time": "2022-08-22T06:15:56.173079",
     "exception": false,
     "start_time": "2022-08-22T06:15:56.163899",
     "status": "completed"
    },
    "tags": []
   },
   "source": [
    "## Explore the dataset"
   ]
  },
  {
   "cell_type": "code",
   "execution_count": 6,
   "id": "dfe7b4b0",
   "metadata": {
    "execution": {
     "iopub.execute_input": "2022-08-22T06:15:56.195823Z",
     "iopub.status.busy": "2022-08-22T06:15:56.194460Z",
     "iopub.status.idle": "2022-08-22T06:15:56.462918Z",
     "shell.execute_reply": "2022-08-22T06:15:56.461165Z"
    },
    "papermill": {
     "duration": 0.282974,
     "end_time": "2022-08-22T06:15:56.466112",
     "exception": false,
     "start_time": "2022-08-22T06:15:56.183138",
     "status": "completed"
    },
    "tags": []
   },
   "outputs": [
    {
     "data": {
      "image/png": "[encoded data removed]",
      "text/plain": [
       "<Figure size 432x288 with 1 Axes>"
      ]
     },
     "metadata": {
      "needs_background": "light"
     },
     "output_type": "display_data"
    }
   ],
   "source": [
    "plt.hist(df[\"surface_covered_in_m2\"])\n",
    "plt.xlabel(\"Area [sq meters]\")\n",
    "plt.title(\"Distribution of Apartment Sizes\");"
   ]
  },
  {
   "cell_type": "markdown",
   "id": "5878958e",
   "metadata": {
    "papermill": {
     "duration": 0.008999,
     "end_time": "2022-08-22T06:15:56.485432",
     "exception": false,
     "start_time": "2022-08-22T06:15:56.476433",
     "status": "completed"
    },
    "tags": []
   },
   "source": [
    "Its looks like the dataset contains some outliers, so let's take the summery statistics for the \"surface_covered_in_m2\" feature"
   ]
  },
  {
   "cell_type": "code",
   "execution_count": 7,
   "id": "9504281f",
   "metadata": {
    "execution": {
     "iopub.execute_input": "2022-08-22T06:15:56.506640Z",
     "iopub.status.busy": "2022-08-22T06:15:56.505808Z",
     "iopub.status.idle": "2022-08-22T06:15:56.543665Z",
     "shell.execute_reply": "2022-08-22T06:15:56.542165Z"
    },
    "papermill": {
     "duration": 0.051927,
     "end_time": "2022-08-22T06:15:56.546659",
     "exception": false,
     "start_time": "2022-08-22T06:15:56.494732",
     "status": "completed"
    },
    "tags": []
   },
   "outputs": [
    {
     "data": {
      "text/plain": [
       "count     1635.000000\n",
       "mean        97.877064\n",
       "std       1533.057610\n",
       "min          0.000000\n",
       "25%         38.000000\n",
       "50%         50.000000\n",
       "75%         73.000000\n",
       "max      62034.000000\n",
       "Name: surface_covered_in_m2, dtype: float64"
      ]
     },
     "execution_count": 7,
     "metadata": {},
     "output_type": "execute_result"
    }
   ],
   "source": [
    "df.describe()[\"surface_covered_in_m2\"]"
   ]
  },
  {
   "cell_type": "markdown",
   "id": "cd11c2ed",
   "metadata": {
    "papermill": {
     "duration": 0.009798,
     "end_time": "2022-08-22T06:15:56.566634",
     "exception": false,
     "start_time": "2022-08-22T06:15:56.556836",
     "status": "completed"
    },
    "tags": []
   },
   "source": [
    "The statistics above confirm what we suspected. While most of the apartments in our dataset are smaller that 73 square meters, there are some that are several thousand square meters. The best thing to do is to change our wrangle function and remove them from the dataset."
   ]
  },
  {
   "cell_type": "markdown",
   "id": "07d63cda",
   "metadata": {
    "execution": {
     "iopub.execute_input": "2022-08-22T05:16:07.124169Z",
     "iopub.status.busy": "2022-08-22T05:16:07.123783Z",
     "iopub.status.idle": "2022-08-22T05:16:07.161809Z",
     "shell.execute_reply": "2022-08-22T05:16:07.160637Z",
     "shell.execute_reply.started": "2022-08-22T05:16:07.124136Z"
    },
    "papermill": {
     "duration": 0.009763,
     "end_time": "2022-08-22T06:15:56.586957",
     "exception": false,
     "start_time": "2022-08-22T06:15:56.577194",
     "status": "completed"
    },
    "tags": []
   },
   "source": [
    "So change the wrangle function so that it removes the outliers in the \"surface_covered_in_m2\" column"
   ]
  },
  {
   "cell_type": "code",
   "execution_count": 8,
   "id": "94737642",
   "metadata": {
    "execution": {
     "iopub.execute_input": "2022-08-22T06:15:56.609121Z",
     "iopub.status.busy": "2022-08-22T06:15:56.608734Z",
     "iopub.status.idle": "2022-08-22T06:15:56.616378Z",
     "shell.execute_reply": "2022-08-22T06:15:56.615151Z"
    },
    "papermill": {
     "duration": 0.021318,
     "end_time": "2022-08-22T06:15:56.618779",
     "exception": false,
     "start_time": "2022-08-22T06:15:56.597461",
     "status": "completed"
    },
    "tags": []
   },
   "outputs": [],
   "source": [
    "def wrangle(filepath):\n",
    "    # Read csv file to df\n",
    "    df = pd.read_csv(filepath)\n",
    "    \n",
    "    # subset to properties in \"Capital Federal\"\n",
    "    mask_ba = df[\"place_with_parent_names\"].str.contains(\"Capital Federal\")\n",
    "    # subset to \"appartments\"\n",
    "    mask_apt = df[\"property_type\"] == \"apartment\"\n",
    "    # subset to price < 400,000 USD\n",
    "    mask_price = df[\"price_aprox_usd\"]<400_000\n",
    "    # subset\n",
    "    df = df[mask_ba & mask_apt & mask_price]\n",
    "     \n",
    "    # Removing outliers by \"surface_covered_in_m2\"\n",
    "    low, high = df[\"surface_covered_in_m2\"].quantile([0.1, 0.9])\n",
    "    mask_area = df[\"surface_covered_in_m2\"].between(low, high)\n",
    "    df = df[mask_area]\n",
    "    \n",
    "    return df"
   ]
  },
  {
   "cell_type": "code",
   "execution_count": 9,
   "id": "3c3c0129",
   "metadata": {
    "execution": {
     "iopub.execute_input": "2022-08-22T06:15:56.641258Z",
     "iopub.status.busy": "2022-08-22T06:15:56.640864Z",
     "iopub.status.idle": "2022-08-22T06:15:56.726142Z",
     "shell.execute_reply": "2022-08-22T06:15:56.725074Z"
    },
    "papermill": {
     "duration": 0.099306,
     "end_time": "2022-08-22T06:15:56.728554",
     "exception": false,
     "start_time": "2022-08-22T06:15:56.629248",
     "status": "completed"
    },
    "tags": []
   },
   "outputs": [
    {
     "data": {
      "text/plain": [
       "count    1343.000000\n",
       "mean       55.076694\n",
       "std        18.160427\n",
       "min        31.000000\n",
       "25%        40.000000\n",
       "50%        50.000000\n",
       "75%        68.500000\n",
       "max       100.000000\n",
       "Name: surface_covered_in_m2, dtype: float64"
      ]
     },
     "execution_count": 9,
     "metadata": {},
     "output_type": "execute_result"
    }
   ],
   "source": [
    "df = wrangle(\"../input/buenos-aires-realestate-dataset/data1.csv\")\n",
    "df.describe()[\"surface_covered_in_m2\"]"
   ]
  },
  {
   "cell_type": "markdown",
   "id": "34622f5e",
   "metadata": {
    "papermill": {
     "duration": 0.009116,
     "end_time": "2022-08-22T06:15:56.747437",
     "exception": false,
     "start_time": "2022-08-22T06:15:56.738321",
     "status": "completed"
    },
    "tags": []
   },
   "source": [
    "So we removed the outliers."
   ]
  },
  {
   "cell_type": "markdown",
   "id": "83cadec8",
   "metadata": {
    "papermill": {
     "duration": 0.00902,
     "end_time": "2022-08-22T06:15:56.765779",
     "exception": false,
     "start_time": "2022-08-22T06:15:56.756759",
     "status": "completed"
    },
    "tags": []
   },
   "source": [
    "**Next we create a scatter plot by Price vs Area**"
   ]
  },
  {
   "cell_type": "code",
   "execution_count": 10,
   "id": "ad087b24",
   "metadata": {
    "execution": {
     "iopub.execute_input": "2022-08-22T06:15:56.786746Z",
     "iopub.status.busy": "2022-08-22T06:15:56.786217Z",
     "iopub.status.idle": "2022-08-22T06:15:57.037649Z",
     "shell.execute_reply": "2022-08-22T06:15:57.036491Z"
    },
    "papermill": {
     "duration": 0.265381,
     "end_time": "2022-08-22T06:15:57.040449",
     "exception": false,
     "start_time": "2022-08-22T06:15:56.775068",
     "status": "completed"
    },
    "tags": []
   },
   "outputs": [
    {
     "data": {
      "image/png": "[encoded data removed]",
      "text/plain": [
       "<Figure size 432x288 with 1 Axes>"
      ]
     },
     "metadata": {
      "needs_background": "light"
     },
     "output_type": "display_data"
    }
   ],
   "source": [
    "plt.scatter(x=df[\"surface_covered_in_m2\"], y=df[\"price_aprox_usd\"])\n",
    "plt.xlabel(\"Area [sq meters]\")\n",
    "plt.ylabel(\"Price [USD]\")\n",
    "plt.title(\"Buenos Aires: Price vs Area\");"
   ]
  },
  {
   "cell_type": "markdown",
   "id": "ee67c9ed",
   "metadata": {
    "papermill": {
     "duration": 0.012929,
     "end_time": "2022-08-22T06:15:57.065632",
     "exception": false,
     "start_time": "2022-08-22T06:15:57.052703",
     "status": "completed"
    },
    "tags": []
   },
   "source": [
    "This shows that there is a positive correlation between apartment price and size. So predicting the price of aparments, size will be good featue."
   ]
  },
  {
   "cell_type": "markdown",
   "id": "9adfd2d8",
   "metadata": {
    "papermill": {
     "duration": 0.010165,
     "end_time": "2022-08-22T06:15:57.087644",
     "exception": false,
     "start_time": "2022-08-22T06:15:57.077479",
     "status": "completed"
    },
    "tags": []
   },
   "source": [
    "## Split\n",
    "\n",
    "Splitting the dataset into **target** and **features** dataset"
   ]
  },
  {
   "cell_type": "code",
   "execution_count": 11,
   "id": "a6b56d03",
   "metadata": {
    "execution": {
     "iopub.execute_input": "2022-08-22T06:15:57.111452Z",
     "iopub.status.busy": "2022-08-22T06:15:57.110690Z",
     "iopub.status.idle": "2022-08-22T06:15:57.116180Z",
     "shell.execute_reply": "2022-08-22T06:15:57.115354Z"
    },
    "papermill": {
     "duration": 0.019646,
     "end_time": "2022-08-22T06:15:57.118216",
     "exception": false,
     "start_time": "2022-08-22T06:15:57.098570",
     "status": "completed"
    },
    "tags": []
   },
   "outputs": [],
   "source": [
    "features = [\"surface_covered_in_m2\"]\n",
    "X = df[features]\n",
    "target = \"price_aprox_usd\"\n",
    "y = df[target]"
   ]
  },
  {
   "cell_type": "markdown",
   "id": "d5b16c1c",
   "metadata": {
    "papermill": {
     "duration": 0.010118,
     "end_time": "2022-08-22T06:15:57.138930",
     "exception": false,
     "start_time": "2022-08-22T06:15:57.128812",
     "status": "completed"
    },
    "tags": []
   },
   "source": [
    "Spltting the into training set and validation set"
   ]
  },
  {
   "cell_type": "code",
   "execution_count": 12,
   "id": "675a1002",
   "metadata": {
    "execution": {
     "iopub.execute_input": "2022-08-22T06:15:57.162680Z",
     "iopub.status.busy": "2022-08-22T06:15:57.161977Z",
     "iopub.status.idle": "2022-08-22T06:15:57.168098Z",
     "shell.execute_reply": "2022-08-22T06:15:57.167172Z"
    },
    "papermill": {
     "duration": 0.020968,
     "end_time": "2022-08-22T06:15:57.170549",
     "exception": false,
     "start_time": "2022-08-22T06:15:57.149581",
     "status": "completed"
    },
    "tags": []
   },
   "outputs": [],
   "source": [
    "X_train, X_val, y_train, y_val = train_test_split(X, y, random_state = 0)"
   ]
  },
  {
   "cell_type": "markdown",
   "id": "9b8d89eb",
   "metadata": {
    "papermill": {
     "duration": 0.010667,
     "end_time": "2022-08-22T06:15:57.191912",
     "exception": false,
     "start_time": "2022-08-22T06:15:57.181245",
     "status": "completed"
    },
    "tags": []
   },
   "source": [
    "# Build the medel\n",
    "\n",
    "### Baseline model"
   ]
  },
  {
   "cell_type": "code",
   "execution_count": 13,
   "id": "b6859896",
   "metadata": {
    "execution": {
     "iopub.execute_input": "2022-08-22T06:15:57.215418Z",
     "iopub.status.busy": "2022-08-22T06:15:57.214507Z",
     "iopub.status.idle": "2022-08-22T06:15:57.222744Z",
     "shell.execute_reply": "2022-08-22T06:15:57.221450Z"
    },
    "papermill": {
     "duration": 0.022239,
     "end_time": "2022-08-22T06:15:57.224923",
     "exception": false,
     "start_time": "2022-08-22T06:15:57.202684",
     "status": "completed"
    },
    "tags": []
   },
   "outputs": [
    {
     "data": {
      "text/plain": [
       "135631.64528301888"
      ]
     },
     "execution_count": 13,
     "metadata": {},
     "output_type": "execute_result"
    }
   ],
   "source": [
    "y_mean = y_train.mean()\n",
    "y_mean"
   ]
  },
  {
   "cell_type": "markdown",
   "id": "3cd9c39e",
   "metadata": {
    "papermill": {
     "duration": 0.01087,
     "end_time": "2022-08-22T06:15:57.246548",
     "exception": false,
     "start_time": "2022-08-22T06:15:57.235678",
     "status": "completed"
    },
    "tags": []
   },
   "source": [
    "This is our baseline model prediction"
   ]
  },
  {
   "cell_type": "code",
   "execution_count": 14,
   "id": "5261f10e",
   "metadata": {
    "execution": {
     "iopub.execute_input": "2022-08-22T06:15:57.271206Z",
     "iopub.status.busy": "2022-08-22T06:15:57.269888Z",
     "iopub.status.idle": "2022-08-22T06:15:57.277757Z",
     "shell.execute_reply": "2022-08-22T06:15:57.276648Z"
    },
    "papermill": {
     "duration": 0.02283,
     "end_time": "2022-08-22T06:15:57.280452",
     "exception": false,
     "start_time": "2022-08-22T06:15:57.257622",
     "status": "completed"
    },
    "tags": []
   },
   "outputs": [
    {
     "name": "stdout",
     "output_type": "stream",
     "text": [
      "Mean apt price: 135631.65\n",
      "Baseline MAE: 45591.41\n"
     ]
    }
   ],
   "source": [
    "y_pred_baseline = [y_mean] * len(y_train)\n",
    "mae_baseline = mean_absolute_error(y_train, y_pred_baseline)\n",
    "\n",
    "print(\"Mean apt price:\", round(y_mean, 2))\n",
    "print(\"Baseline MAE:\", round(mae_baseline, 2))"
   ]
  },
  {
   "cell_type": "markdown",
   "id": "d338cf02",
   "metadata": {
    "papermill": {
     "duration": 0.01036,
     "end_time": "2022-08-22T06:15:57.301830",
     "exception": false,
     "start_time": "2022-08-22T06:15:57.291470",
     "status": "completed"
    },
    "tags": []
   },
   "source": [
    "Above shows the mean apartment price as the baseline prediction and the MAE of of the baseline model, so we have to ensure that our model should perform well than baseline model."
   ]
  },
  {
   "cell_type": "markdown",
   "id": "12798e80",
   "metadata": {
    "papermill": {
     "duration": 0.010346,
     "end_time": "2022-08-22T06:15:57.323057",
     "exception": false,
     "start_time": "2022-08-22T06:15:57.312711",
     "status": "completed"
    },
    "tags": []
   },
   "source": [
    "### Building the linear model"
   ]
  },
  {
   "cell_type": "code",
   "execution_count": 15,
   "id": "a69af08b",
   "metadata": {
    "execution": {
     "iopub.execute_input": "2022-08-22T06:15:57.350217Z",
     "iopub.status.busy": "2022-08-22T06:15:57.349723Z",
     "iopub.status.idle": "2022-08-22T06:15:57.374640Z",
     "shell.execute_reply": "2022-08-22T06:15:57.373484Z"
    },
    "papermill": {
     "duration": 0.04333,
     "end_time": "2022-08-22T06:15:57.377317",
     "exception": false,
     "start_time": "2022-08-22T06:15:57.333987",
     "status": "completed"
    },
    "tags": []
   },
   "outputs": [
    {
     "data": {
      "text/plain": [
       "LinearRegression()"
      ]
     },
     "execution_count": 15,
     "metadata": {},
     "output_type": "execute_result"
    }
   ],
   "source": [
    "model = LinearRegression()\n",
    "model.fit(X_train, y_train)"
   ]
  },
  {
   "cell_type": "code",
   "execution_count": 16,
   "id": "a5dc0521",
   "metadata": {
    "execution": {
     "iopub.execute_input": "2022-08-22T06:15:57.408958Z",
     "iopub.status.busy": "2022-08-22T06:15:57.407430Z",
     "iopub.status.idle": "2022-08-22T06:15:57.415792Z",
     "shell.execute_reply": "2022-08-22T06:15:57.414746Z"
    },
    "papermill": {
     "duration": 0.024183,
     "end_time": "2022-08-22T06:15:57.418578",
     "exception": false,
     "start_time": "2022-08-22T06:15:57.394395",
     "status": "completed"
    },
    "tags": []
   },
   "outputs": [],
   "source": [
    "y_pred = model.predict(X_val)"
   ]
  },
  {
   "cell_type": "code",
   "execution_count": 17,
   "id": "6d806a35",
   "metadata": {
    "execution": {
     "iopub.execute_input": "2022-08-22T06:15:57.445045Z",
     "iopub.status.busy": "2022-08-22T06:15:57.444583Z",
     "iopub.status.idle": "2022-08-22T06:15:57.453442Z",
     "shell.execute_reply": "2022-08-22T06:15:57.452331Z"
    },
    "papermill": {
     "duration": 0.026227,
     "end_time": "2022-08-22T06:15:57.456162",
     "exception": false,
     "start_time": "2022-08-22T06:15:57.429935",
     "status": "completed"
    },
    "tags": []
   },
   "outputs": [
    {
     "data": {
      "text/plain": [
       "30597.638698440216"
      ]
     },
     "execution_count": 17,
     "metadata": {},
     "output_type": "execute_result"
    }
   ],
   "source": [
    "mean_absolute_error(y_val, y_pred)"
   ]
  },
  {
   "cell_type": "markdown",
   "id": "0f5a950e",
   "metadata": {
    "papermill": {
     "duration": 0.010138,
     "end_time": "2022-08-22T06:15:57.477490",
     "exception": false,
     "start_time": "2022-08-22T06:15:57.467352",
     "status": "completed"
    },
    "tags": []
   },
   "source": [
    "So its less than the MAE of baseline model, so it performs well."
   ]
  },
  {
   "cell_type": "code",
   "execution_count": 18,
   "id": "94836852",
   "metadata": {
    "execution": {
     "iopub.execute_input": "2022-08-22T06:15:57.500710Z",
     "iopub.status.busy": "2022-08-22T06:15:57.500255Z",
     "iopub.status.idle": "2022-08-22T06:15:57.521463Z",
     "shell.execute_reply": "2022-08-22T06:15:57.520343Z"
    },
    "papermill": {
     "duration": 0.035447,
     "end_time": "2022-08-22T06:15:57.523681",
     "exception": false,
     "start_time": "2022-08-22T06:15:57.488234",
     "status": "completed"
    },
    "tags": []
   },
   "outputs": [
    {
     "data": {
      "text/plain": [
       "0    118482.665324\n",
       "1    136499.381880\n",
       "2     89205.500921\n",
       "3     89205.500921\n",
       "4    107222.217477\n",
       "dtype: float64"
      ]
     },
     "execution_count": 18,
     "metadata": {},
     "output_type": "execute_result"
    }
   ],
   "source": [
    "X_test = pd.read_csv(\"../input/buenos-aires-realestate-dataset/testdata.csv\")[features]\n",
    "y_pred_test = pd.Series(model.predict(X_test))\n",
    "y_pred_test.head()"
   ]
  },
  {
   "cell_type": "markdown",
   "id": "be85b489",
   "metadata": {
    "papermill": {
     "duration": 0.01,
     "end_time": "2022-08-22T06:15:57.544108",
     "exception": false,
     "start_time": "2022-08-22T06:15:57.534108",
     "status": "completed"
    },
    "tags": []
   },
   "source": [
    "#### This is the prediction of our model on the testing dataset"
   ]
  },
  {
   "cell_type": "markdown",
   "id": "37042ee1",
   "metadata": {
    "papermill": {
     "duration": 0.010005,
     "end_time": "2022-08-22T06:15:57.564449",
     "exception": false,
     "start_time": "2022-08-22T06:15:57.554444",
     "status": "completed"
    },
    "tags": []
   },
   "source": [
    "## Communicating the results"
   ]
  },
  {
   "cell_type": "code",
   "execution_count": 19,
   "id": "c6d16b66",
   "metadata": {
    "execution": {
     "iopub.execute_input": "2022-08-22T06:15:57.587594Z",
     "iopub.status.busy": "2022-08-22T06:15:57.586333Z",
     "iopub.status.idle": "2022-08-22T06:15:57.830728Z",
     "shell.execute_reply": "2022-08-22T06:15:57.829872Z"
    },
    "papermill": {
     "duration": 0.258432,
     "end_time": "2022-08-22T06:15:57.833115",
     "exception": false,
     "start_time": "2022-08-22T06:15:57.574683",
     "status": "completed"
    },
    "tags": []
   },
   "outputs": [
    {
     "data": {
      "image/png": "[encoded data removed]",
      "text/plain": [
       "<Figure size 432x288 with 1 Axes>"
      ]
     },
     "metadata": {
      "needs_background": "light"
     },
     "output_type": "display_data"
    }
   ],
   "source": [
    "plt.plot(X_train, model.predict(X_train), color = \"r\", label = \"Linear Model\")\n",
    "plt.scatter(X_train, y_train)\n",
    "plt.xlabel(\"surface covered [sq meters]\")\n",
    "plt.ylabel(\"price [usd]\")\n",
    "plt.legend();"
   ]
  },
  {
   "cell_type": "markdown",
   "id": "3a7cbfe6",
   "metadata": {
    "papermill": {
     "duration": 0.010598,
     "end_time": "2022-08-22T06:15:57.855586",
     "exception": false,
     "start_time": "2022-08-22T06:15:57.844988",
     "status": "completed"
    },
    "tags": []
   },
   "source": [
    "This is how our model genaralize the data patterns"
   ]
  }
 ],
 "metadata": {
  "kernelspec": {
   "display_name": "Python 3",
   "language": "python",
   "name": "python3"
  },
  "language_info": {
   "codemirror_mode": {
    "name": "ipython",
    "version": 3
   },
   "file_extension": ".py",
   "mimetype": "text/x-python",
   "name": "python",
   "nbconvert_exporter": "python",
   "pygments_lexer": "ipython3",
   "version": "3.7.12"
  },
  "papermill": {
   "default_parameters": {},
   "duration": 12.545835,
   "end_time": "2022-08-22T06:15:58.889558",
   "environment_variables": {},
   "exception": null,
   "input_path": "__notebook__.ipynb",
   "output_path": "__notebook__.ipynb",
   "parameters": {},
   "start_time": "2022-08-22T06:15:46.343723",
   "version": "2.3.4"
  }
 },
 "nbformat": 4,
 "nbformat_minor": 5
}
